{
 "cells": [
  {
   "cell_type": "code",
   "execution_count": 1,
   "id": "f88d6720-3943-413a-8831-491523e0c02e",
   "metadata": {},
   "outputs": [
    {
     "name": "stdout",
     "output_type": "stream",
     "text": [
      "Requirement already satisfied: opencv-python in c:\\users\\arif\\anaconda3\\lib\\site-packages (4.11.0.86)Note: you may need to restart the kernel to use updated packages.\n",
      "\n",
      "Requirement already satisfied: numpy>=1.21.2 in c:\\users\\arif\\anaconda3\\lib\\site-packages (from opencv-python) (1.26.4)\n"
     ]
    }
   ],
   "source": [
    "pip install opencv-python\n"
   ]
  },
  {
   "cell_type": "code",
   "execution_count": null,
   "id": "cee3b0d8-77d4-4cfc-a16a-7d59fbead399",
   "metadata": {},
   "outputs": [],
   "source": [
    "import cv2\n",
    "import numpy as np\n",
    "\n",
    "cap = cv2.VideoCapture(0)\n",
    "\n",
    "# Use the first frame as the base\n",
    "ret, first_frame = cap.read()\n",
    "first_frame = cv2.resize(first_frame, (640, 480))\n",
    "gray_base = cv2.cvtColor(first_frame, cv2.COLOR_BGR2GRAY)\n",
    "gray_base = cv2.GaussianBlur(gray_base, (21, 21), 0)\n",
    "\n",
    "# Motion buffer for slow movement\n",
    "motion_accumulator = np.zeros_like(gray_base, dtype=np.float32)\n",
    "\n",
    "while True:\n",
    "    ret, frame = cap.read()\n",
    "    if not ret:\n",
    "        break\n",
    "\n",
    "    frame = cv2.resize(frame, (640, 480))\n",
    "    gray = cv2.cvtColor(frame, cv2.COLOR_BGR2GRAY)\n",
    "    gray = cv2.GaussianBlur(gray, (21, 21), 0)\n",
    "\n",
    "    # Frame difference\n",
    "    delta = cv2.absdiff(gray_base, gray)\n",
    "    _, thresh = cv2.threshold(delta, 10, 255, cv2.THRESH_BINARY)  # Lowered from 25 to 10\n",
    "    thresh = cv2.dilate(thresh, None, iterations=2)\n",
    "\n",
    "    # Accumulate small differences over time\n",
    "    cv2.accumulateWeighted(thresh, motion_accumulator, 0.1)\n",
    "    motion_mask = cv2.convertScaleAbs(motion_accumulator)\n",
    "\n",
    "    # Find contours on the motion mask\n",
    "    contours, _ = cv2.findContours(motion_mask, cv2.RETR_EXTERNAL, cv2.CHAIN_APPROX_SIMPLE)\n",
    "\n",
    "    motion_detected = False\n",
    "\n",
    "    for contour in contours:\n",
    "        if cv2.contourArea(contour) < 500:  # Lowered from 1000 to 500\n",
    "            continue\n",
    "        motion_detected = True\n",
    "        (x, y, w, h) = cv2.boundingRect(contour)\n",
    "        cv2.rectangle(frame, (x, y), (x + w, y + h), (0, 255, 0), 2)\n",
    "\n",
    "    if motion_detected:\n",
    "        cv2.putText(frame, \"Motion Detected\", (10, 30),\n",
    "                    cv2.FONT_HERSHEY_SIMPLEX, 1, (0, 0, 255), 2)\n",
    "\n",
    "    cv2.imshow(\"Motion Tracking - Slow Motion Friendly\", frame)\n",
    "\n",
    "    gray_base = gray.copy()  # Update background\n",
    "\n",
    "    if cv2.waitKey(1) & 0xFF == ord('q'):\n",
    "        break\n",
    "\n",
    "cap.release()\n",
    "cv2.destroyAllWindows()\n"
   ]
  },
  {
   "cell_type": "code",
   "execution_count": null,
   "id": "89d4ae32-ff71-4af5-a524-46712c1dc9f5",
   "metadata": {},
   "outputs": [],
   "source": []
  }
 ],
 "metadata": {
  "kernelspec": {
   "display_name": "Python 3 (ipykernel)",
   "language": "python",
   "name": "python3"
  },
  "language_info": {
   "codemirror_mode": {
    "name": "ipython",
    "version": 3
   },
   "file_extension": ".py",
   "mimetype": "text/x-python",
   "name": "python",
   "nbconvert_exporter": "python",
   "pygments_lexer": "ipython3",
   "version": "3.12.7"
  }
 },
 "nbformat": 4,
 "nbformat_minor": 5
}
